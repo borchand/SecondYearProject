{
 "cells": [
  {
   "cell_type": "code",
   "execution_count": null,
   "metadata": {},
   "outputs": [],
   "source": [
    "from TokenClassificationTrainer import TokenClassificationTrainer"
   ]
  },
  {
   "cell_type": "code",
   "execution_count": null,
   "metadata": {},
   "outputs": [],
   "source": [
    "# Set the task and name of the pretrained model and the batch size for finetuning\n",
    "task = \"ner\"\n",
    "model_name = \"xlm-mlm-17-1280\"\n",
    "batch_size = 32\n",
    "\n",
    "# Flag to indicate whether to label all tokens or just the first token of each word\n",
    "label_all_tokens = True"
   ]
  },
  {
   "attachments": {},
   "cell_type": "markdown",
   "metadata": {},
   "source": [
    "# Baseline"
   ]
  },
  {
   "cell_type": "code",
   "execution_count": null,
   "metadata": {},
   "outputs": [],
   "source": [
    "# File paths to splits of the chosen dataset\n",
    "file_paths = {\n",
    "    \"train\": \"data/datasets/baseline/en_ewt_nn_train.conll\",\n",
    "    \"validation\": \"data/datasets/baseline/en_ewt_nn_newsgroup_dev.conll\",\n",
    "    \"test\": \"data/datasets/baseline/en_ewt_nn_newsgroup_test.conll\",\n",
    "}\n",
    "\n",
    "Baseline_TokenClassificationTrainer = TokenClassificationTrainer(task, model_name, batch_size, label_all_tokens, file_paths)\n",
    "\n",
    "# load trianed model to trainer\n",
    "Baseline_TokenClassificationTrainer.set_trainer(use_old = True)\n",
    "baseline_eval = Baseline_TokenClassificationTrainer.evaluate()"
   ]
  },
  {
   "cell_type": "code",
   "execution_count": null,
   "metadata": {},
   "outputs": [],
   "source": [
    "baseline_eval = Baseline_TokenClassificationTrainer.evaluate()"
   ]
  },
  {
   "attachments": {},
   "cell_type": "markdown",
   "metadata": {},
   "source": [
    "# NoSta-D"
   ]
  },
  {
   "cell_type": "code",
   "execution_count": null,
   "metadata": {},
   "outputs": [],
   "source": [
    "# File paths to splits of the chosen dataset\n",
    "file_paths = {\n",
    "    \"train\": \"data/datasets/NoSta-D/NER-de-train.tsv\",\n",
    "    \"validation\": \"data/datasets/NoSta-D/NER-de-dev.tsv\",\n",
    "    \"test\": \"data/datasets/NoSta-D/NER-de-test.tsv\",\n",
    "}\n",
    "\n",
    "NoStaD_TokenClassificationTrainer = TokenClassificationTrainer(task, model_name, batch_size, label_all_tokens, file_paths)\n",
    "\n",
    "# load trianed model to trainer\n",
    "NoStaD_TokenClassificationTrainer.set_trainer(use_old = True)\n",
    "NoStaD_eval = NoStaD_TokenClassificationTrainer.evaluate()"
   ]
  },
  {
   "attachments": {},
   "cell_type": "markdown",
   "metadata": {},
   "source": [
    "# DaNplus"
   ]
  },
  {
   "cell_type": "code",
   "execution_count": null,
   "metadata": {},
   "outputs": [],
   "source": [
    "# File paths to splits of the chosen dataset\n",
    "file_paths = {\n",
    "    \"train\": \"data/datasets/DaNplus/da_news_train.tsv\",\n",
    "    \"validation\": \"data/datasets/DaNplus/da_news_dev.tsv\",\n",
    "    \"test\": \"data/datasets/DaNplus/da_news_test.tsv\",\n",
    "}\n",
    "\n",
    "DaNplus_TokenClassificationTrainer = TokenClassificationTrainer(task, model_name, batch_size, label_all_tokens, file_paths)\n",
    "\n",
    "# load trianed model to trainer\n",
    "DaNplus_TokenClassificationTrainer.set_trainer(use_old = True)\n",
    "DaNplus_eval = DaNplus_TokenClassificationTrainer.evaluate()"
   ]
  },
  {
   "attachments": {},
   "cell_type": "markdown",
   "metadata": {},
   "source": [
    "# Eval"
   ]
  },
  {
   "cell_type": "code",
   "execution_count": null,
   "metadata": {},
   "outputs": [],
   "source": [
    "print(\"baseline\")\n",
    "print(baseline_eval)\n",
    "print(\"NoStaD\")\n",
    "print(NoStaD_eval)\n",
    "print(\"DaNplus\")\n",
    "print(DaNplus_eval)"
   ]
  }
 ],
 "metadata": {
  "kernelspec": {
   "display_name": "venv",
   "language": "python",
   "name": "python3"
  },
  "language_info": {
   "codemirror_mode": {
    "name": "ipython",
    "version": 3
   },
   "file_extension": ".py",
   "mimetype": "text/x-python",
   "name": "python",
   "nbconvert_exporter": "python",
   "pygments_lexer": "ipython3",
   "version": "3.11.3"
  },
  "orig_nbformat": 4
 },
 "nbformat": 4,
 "nbformat_minor": 2
}
