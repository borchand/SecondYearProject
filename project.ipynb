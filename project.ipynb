{
 "cells": [
  {
   "cell_type": "code",
   "execution_count": 1,
   "metadata": {},
   "outputs": [
    {
     "name": "stderr",
     "output_type": "stream",
     "text": [
      "/Users/alexandernielsen/Desktop/ITU/4th_semester/NLP/SecondYearProject/venv/lib/python3.9/site-packages/tqdm/auto.py:21: TqdmWarning: IProgress not found. Please update jupyter and ipywidgets. See https://ipywidgets.readthedocs.io/en/stable/user_install.html\n",
      "  from .autonotebook import tqdm as notebook_tqdm\n"
     ]
    }
   ],
   "source": [
    "from TokenClassificationTrainer import TokenClassificationTrainer"
   ]
  },
  {
   "cell_type": "code",
   "execution_count": 2,
   "metadata": {},
   "outputs": [],
   "source": [
    "# Set the task and name of the pretrained model and the batch size for finetuning\n",
    "task = \"ner\"\n",
    "model_name = \"xlm-mlm-17-1280\"\n",
    "batch_size = 16\n",
    "\n",
    "# Flag to indicate whether to label all tokens or just the first token of each word\n",
    "label_all_tokens = True"
   ]
  },
  {
   "attachments": {},
   "cell_type": "markdown",
   "metadata": {},
   "source": [
    "# Baseline"
   ]
  },
  {
   "cell_type": "code",
   "execution_count": 3,
   "metadata": {},
   "outputs": [
    {
     "name": "stderr",
     "output_type": "stream",
     "text": [
      "100%|██████████| 18/18 [00:50<00:00,  2.82s/it]                    \n"
     ]
    }
   ],
   "source": [
    "# File paths to splits of the chosen dataset\n",
    "file_paths = {\n",
    "    \"train\": \"data/datasets/baseline/en_ewt_nn_train.conll\",\n",
    "    \"validation\": \"data/datasets/baseline/en_ewt_nn_newsgroup_test.conll\",\n",
    "    \"test\": \"data/datasets/baseline/en_ewt_nn_train.conll\",\n",
    "}\n",
    "\n",
    "trainer = TokenClassificationTrainer(task, model_name, batch_size, label_all_tokens, file_paths)\n",
    "\n",
    "# load trianed model to trainer\n",
    "trainer.set_trainer(use_old = True)\n",
    "baseline_eval = trainer.evaluate()"
   ]
  },
  {
   "cell_type": "code",
   "execution_count": 4,
   "metadata": {},
   "outputs": [
    {
     "data": {
      "text/plain": [
       "{'eval_loss': 0.29972416162490845,\n",
       " 'eval_precision': 0.6620111731843575,\n",
       " 'eval_recall': 0.5163398692810458,\n",
       " 'eval_f1': 0.5801713586291309,\n",
       " 'eval_span_f1': 0.606516290726817,\n",
       " 'eval_accuracy': 0.9149110247494375,\n",
       " 'eval_runtime': 54.3129,\n",
       " 'eval_samples_per_second': 5.247,\n",
       " 'eval_steps_per_second': 0.331}"
      ]
     },
     "execution_count": 4,
     "metadata": {},
     "output_type": "execute_result"
    }
   ],
   "source": [
    "baseline_eval"
   ]
  },
  {
   "attachments": {},
   "cell_type": "markdown",
   "metadata": {},
   "source": [
    "# NoSta-D"
   ]
  },
  {
   "cell_type": "code",
   "execution_count": 5,
   "metadata": {},
   "outputs": [
    {
     "name": "stderr",
     "output_type": "stream",
     "text": [
      "100%|██████████| 319/319 [17:54<00:00,  3.37s/it]                  \n"
     ]
    }
   ],
   "source": [
    "# File paths to splits of the chosen dataset\n",
    "file_paths = {\n",
    "    \"train\": \"data/datasets/NoSta-D/NER-de-train.tsv\",\n",
    "    \"validation\": \"data/datasets/NoSta-D/NER-de-test.tsv\",\n",
    "    \"test\": \"data/datasets/NoSta-D/NER-de-dev.tsv\",\n",
    "}\n",
    "\n",
    "trainer = TokenClassificationTrainer(task, model_name, batch_size, label_all_tokens, file_paths)\n",
    "\n",
    "# load trianed model to trainer\n",
    "trainer.set_trainer(use_old = True)\n",
    "NoStaD_eval = trainer.evaluate()"
   ]
  },
  {
   "attachments": {},
   "cell_type": "markdown",
   "metadata": {},
   "source": [
    "# DaNplus"
   ]
  },
  {
   "cell_type": "code",
   "execution_count": 6,
   "metadata": {},
   "outputs": [
    {
     "name": "stderr",
     "output_type": "stream",
     "text": [
      "100%|██████████| 36/36 [02:57<00:00,  4.92s/it]                  \n"
     ]
    }
   ],
   "source": [
    "# File paths to splits of the chosen dataset\n",
    "file_paths = {\n",
    "    \"train\": \"data/datasets/DaNplus/da_news_train.tsv\",\n",
    "    \"validation\": \"data/datasets/DaNplus/da_news_test.tsv\",\n",
    "    \"test\": \"data/datasets/DaNplus/da_news_dev.tsv\",\n",
    "}\n",
    "\n",
    "trainer = TokenClassificationTrainer(task, model_name, batch_size, label_all_tokens, file_paths)\n",
    "\n",
    "# load trianed model to trainer\n",
    "trainer.set_trainer(use_old = True)\n",
    "DaNplus_eval = trainer.evaluate()"
   ]
  },
  {
   "attachments": {},
   "cell_type": "markdown",
   "metadata": {},
   "source": [
    "# Eval"
   ]
  },
  {
   "cell_type": "code",
   "execution_count": 7,
   "metadata": {},
   "outputs": [
    {
     "name": "stdout",
     "output_type": "stream",
     "text": [
      "baseline\n",
      "{'eval_loss': 0.29972416162490845, 'eval_precision': 0.6620111731843575, 'eval_recall': 0.5163398692810458, 'eval_f1': 0.5801713586291309, 'eval_span_f1': 0.606516290726817, 'eval_accuracy': 0.9149110247494375, 'eval_runtime': 54.3129, 'eval_samples_per_second': 5.247, 'eval_steps_per_second': 0.331}\n",
      "NoStaD\n",
      "{'eval_loss': 0.32413148880004883, 'eval_precision': 0.5523602199816682, 'eval_recall': 0.46431667148223055, 'eval_f1': 0.5045261891057506, 'eval_span_f1': 0.5506407163154791, 'eval_accuracy': 0.9186659739932622, 'eval_runtime': 1077.3587, 'eval_samples_per_second': 4.734, 'eval_steps_per_second': 0.296}\n",
      "DaNplus\n",
      "{'eval_loss': 0.2991974353790283, 'eval_precision': 0.3388338833883388, 'eval_recall': 0.31950207468879666, 'eval_f1': 0.32888414308595826, 'eval_span_f1': 0.3733333333333333, 'eval_accuracy': 0.9193520191131053, 'eval_runtime': 181.317, 'eval_samples_per_second': 3.122, 'eval_steps_per_second': 0.199}\n"
     ]
    }
   ],
   "source": [
    "print(\"baseline\")\n",
    "print(baseline_eval)\n",
    "print(\"NoStaD\")\n",
    "print(NoStaD_eval)\n",
    "print(\"DaNplus\")\n",
    "print(DaNplus_eval)"
   ]
  },
  {
   "cell_type": "code",
   "execution_count": 10,
   "metadata": {},
   "outputs": [
    {
     "data": {
      "text/html": [
       "<div>\n",
       "<style scoped>\n",
       "    .dataframe tbody tr th:only-of-type {\n",
       "        vertical-align: middle;\n",
       "    }\n",
       "\n",
       "    .dataframe tbody tr th {\n",
       "        vertical-align: top;\n",
       "    }\n",
       "\n",
       "    .dataframe thead th {\n",
       "        text-align: right;\n",
       "    }\n",
       "</style>\n",
       "<table border=\"1\" class=\"dataframe\">\n",
       "  <thead>\n",
       "    <tr style=\"text-align: right;\">\n",
       "      <th></th>\n",
       "      <th>Dataset</th>\n",
       "      <th>Language</th>\n",
       "      <th>eval_loss</th>\n",
       "      <th>eval_precision</th>\n",
       "      <th>eval_recall</th>\n",
       "      <th>eval_f1</th>\n",
       "      <th>eval_span_f1</th>\n",
       "      <th>eval_accuracy</th>\n",
       "      <th>eval_runtime</th>\n",
       "      <th>eval_samples_per_second</th>\n",
       "      <th>eval_steps_per_second</th>\n",
       "    </tr>\n",
       "  </thead>\n",
       "  <tbody>\n",
       "    <tr>\n",
       "      <th>0</th>\n",
       "      <td>Baseline</td>\n",
       "      <td>English</td>\n",
       "      <td>0.299724</td>\n",
       "      <td>0.662011</td>\n",
       "      <td>0.516340</td>\n",
       "      <td>0.580171</td>\n",
       "      <td>0.606516</td>\n",
       "      <td>0.914911</td>\n",
       "      <td>54.3129</td>\n",
       "      <td>5.247</td>\n",
       "      <td>0.331</td>\n",
       "    </tr>\n",
       "    <tr>\n",
       "      <th>1</th>\n",
       "      <td>NoSta-D</td>\n",
       "      <td>German</td>\n",
       "      <td>0.324131</td>\n",
       "      <td>0.552360</td>\n",
       "      <td>0.464317</td>\n",
       "      <td>0.504526</td>\n",
       "      <td>0.550641</td>\n",
       "      <td>0.918666</td>\n",
       "      <td>1077.3587</td>\n",
       "      <td>4.734</td>\n",
       "      <td>0.296</td>\n",
       "    </tr>\n",
       "    <tr>\n",
       "      <th>2</th>\n",
       "      <td>DaNplus</td>\n",
       "      <td>Danish</td>\n",
       "      <td>0.299197</td>\n",
       "      <td>0.338834</td>\n",
       "      <td>0.319502</td>\n",
       "      <td>0.328884</td>\n",
       "      <td>0.373333</td>\n",
       "      <td>0.919352</td>\n",
       "      <td>181.3170</td>\n",
       "      <td>3.122</td>\n",
       "      <td>0.199</td>\n",
       "    </tr>\n",
       "  </tbody>\n",
       "</table>\n",
       "</div>"
      ],
      "text/plain": [
       "    Dataset Language  eval_loss  eval_precision  eval_recall   eval_f1  \\\n",
       "0  Baseline  English   0.299724        0.662011     0.516340  0.580171   \n",
       "1   NoSta-D   German   0.324131        0.552360     0.464317  0.504526   \n",
       "2   DaNplus   Danish   0.299197        0.338834     0.319502  0.328884   \n",
       "\n",
       "   eval_span_f1  eval_accuracy  eval_runtime  eval_samples_per_second  \\\n",
       "0      0.606516       0.914911       54.3129                    5.247   \n",
       "1      0.550641       0.918666     1077.3587                    4.734   \n",
       "2      0.373333       0.919352      181.3170                    3.122   \n",
       "\n",
       "   eval_steps_per_second  \n",
       "0                  0.331  \n",
       "1                  0.296  \n",
       "2                  0.199  "
      ]
     },
     "execution_count": 10,
     "metadata": {},
     "output_type": "execute_result"
    }
   ],
   "source": [
    "import pandas as pd\n",
    "\n",
    "cols = [\"Dataset\", \"Language\"] + [name for name, _ in baseline_eval.items()]\n",
    "\n",
    "df = pd.DataFrame(columns=cols)\n",
    "\n",
    "# Add the evals to df\n",
    "df.loc[0] = [\"Baseline\", \"English\"] + [value for _, value in baseline_eval.items()]\n",
    "df.loc[1] = [\"NoSta-D\", \"German\"] + [value for _, value in NoStaD_eval.items()]\n",
    "df.loc[2] = [\"DaNplus\", \"Danish\"] + [value for _, value in DaNplus_eval.items()]\n",
    "\n",
    "df"
   ]
  },
  {
   "cell_type": "code",
   "execution_count": null,
   "metadata": {},
   "outputs": [],
   "source": []
  }
 ],
 "metadata": {
  "kernelspec": {
   "display_name": "venv",
   "language": "python",
   "name": "python3"
  },
  "language_info": {
   "codemirror_mode": {
    "name": "ipython",
    "version": 3
   },
   "file_extension": ".py",
   "mimetype": "text/x-python",
   "name": "python",
   "nbconvert_exporter": "python",
   "pygments_lexer": "ipython3",
   "version": "3.9.12"
  },
  "orig_nbformat": 4
 },
 "nbformat": 4,
 "nbformat_minor": 2
}
