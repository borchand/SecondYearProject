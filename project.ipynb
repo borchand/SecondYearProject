{
 "cells": [
  {
   "cell_type": "code",
   "execution_count": 1,
   "metadata": {},
   "outputs": [
    {
     "name": "stderr",
     "output_type": "stream",
     "text": [
      "/Users/borch_and/Documents/GitHub/SecondYearProject/venv/lib/python3.11/site-packages/tqdm/auto.py:21: TqdmWarning: IProgress not found. Please update jupyter and ipywidgets. See https://ipywidgets.readthedocs.io/en/stable/user_install.html\n",
      "  from .autonotebook import tqdm as notebook_tqdm\n"
     ]
    }
   ],
   "source": [
    "from TokenClassificationTrainer import TokenClassificationTrainer"
   ]
  },
  {
   "cell_type": "code",
   "execution_count": 2,
   "metadata": {},
   "outputs": [],
   "source": [
    "# Set the task and name of the pretrained model and the batch size for finetuning\n",
    "task = \"ner\"\n",
    "model_name = \"xlm-mlm-17-1280\"\n",
    "save_name = \"\"\n",
    "batch_size = 16\n",
    "\n",
    "# Flag to indicate whether to label all tokens or just the first token of each word\n",
    "label_all_tokens = True"
   ]
  },
  {
   "attachments": {},
   "cell_type": "markdown",
   "metadata": {},
   "source": [
    "# Eval"
   ]
  },
  {
   "cell_type": "code",
   "execution_count": 3,
   "metadata": {},
   "outputs": [
    {
     "name": "stderr",
     "output_type": "stream",
     "text": [
      "100%|██████████| 18/18 [00:18<00:00,  1.03s/it]                    \n"
     ]
    },
    {
     "name": "stdout",
     "output_type": "stream",
     "text": [
      "{'eval_loss': 0.299724280834198, 'eval_precision': 0.6620111731843575, 'eval_recall': 0.5163398692810458, 'eval_f1': 0.5801713586291309, 'eval_span_f1': 0.606516290726817, 'eval_accuracy': 0.9149110247494375, 'eval_runtime': 19.8806, 'eval_samples_per_second': 14.336, 'eval_steps_per_second': 0.905}\n"
     ]
    },
    {
     "name": "stderr",
     "output_type": "stream",
     "text": [
      "100%|██████████| 319/319 [07:41<00:00,  1.45s/it]                \n"
     ]
    },
    {
     "name": "stdout",
     "output_type": "stream",
     "text": [
      "{'eval_loss': 0.324131578207016, 'eval_precision': 0.5523602199816682, 'eval_recall': 0.46431667148223055, 'eval_f1': 0.5045261891057506, 'eval_span_f1': 0.5506407163154791, 'eval_accuracy': 0.9186659739932622, 'eval_runtime': 462.8411, 'eval_samples_per_second': 11.019, 'eval_steps_per_second': 0.689}\n"
     ]
    },
    {
     "name": "stderr",
     "output_type": "stream",
     "text": [
      "100%|██████████| 36/36 [01:11<00:00,  1.97s/it]                \n"
     ]
    },
    {
     "name": "stdout",
     "output_type": "stream",
     "text": [
      "{'eval_loss': 0.2991975247859955, 'eval_precision': 0.3388338833883388, 'eval_recall': 0.31950207468879666, 'eval_f1': 0.32888414308595826, 'eval_span_f1': 0.3733333333333333, 'eval_accuracy': 0.9193520191131053, 'eval_runtime': 72.5812, 'eval_samples_per_second': 7.798, 'eval_steps_per_second': 0.496}\n"
     ]
    },
    {
     "name": "stderr",
     "output_type": "stream",
     "text": [
      "100%|██████████| 36/36 [01:12<00:00,  2.00s/it]                "
     ]
    },
    {
     "name": "stdout",
     "output_type": "stream",
     "text": [
      "{'eval_loss': 0.2991975247859955, 'eval_precision': 0.3388338833883388, 'eval_recall': 0.31950207468879666, 'eval_f1': 0.32888414308595826, 'eval_span_f1': 0.3733333333333333, 'eval_accuracy': 0.9193520191131053, 'eval_runtime': 73.6809, 'eval_samples_per_second': 7.682, 'eval_steps_per_second': 0.489}\n"
     ]
    },
    {
     "name": "stderr",
     "output_type": "stream",
     "text": [
      "\n"
     ]
    }
   ],
   "source": [
    "# File paths to splits of the chosen dataset\n",
    "file_paths = {\n",
    "    \"train\": \"data/datasets/baseline/en_ewt_nn_train.conll\",\n",
    "    \"validation\": \"data/datasets/baseline/en_ewt_nn_train.conll\",\n",
    "}\n",
    "\n",
    "trainer = TokenClassificationTrainer(task, model_name, save_name, batch_size, label_all_tokens, file_paths)\n",
    "\n",
    "# load trianed model to trainer\n",
    "trainer.set_trainer(use_old = True)\n",
    "evals = trainer.evaluate_multiple([\"data/datasets/baseline/en_ewt_nn_newsgroup_test.conll\", \"data/datasets/NoSta-D/NER-de-test.tsv\", \"data/datasets/DaNplus/da_news_test.tsv\", \"data/datasets/DaNplus/da_news_test.tsv\"])"
   ]
  },
  {
   "cell_type": "code",
   "execution_count": 4,
   "metadata": {},
   "outputs": [],
   "source": [
    "baseline_eval = evals[0]\n",
    "NoStaD_eval = evals[1]\n",
    "DaNplus_eval = evals[2]"
   ]
  },
  {
   "cell_type": "code",
   "execution_count": 5,
   "metadata": {},
   "outputs": [
    {
     "data": {
      "text/plain": [
       "{'eval_loss': 0.299724280834198,\n",
       " 'eval_precision': 0.6620111731843575,\n",
       " 'eval_recall': 0.5163398692810458,\n",
       " 'eval_f1': 0.5801713586291309,\n",
       " 'eval_span_f1': 0.606516290726817,\n",
       " 'eval_accuracy': 0.9149110247494375,\n",
       " 'eval_runtime': 19.8806,\n",
       " 'eval_samples_per_second': 14.336,\n",
       " 'eval_steps_per_second': 0.905}"
      ]
     },
     "execution_count": 5,
     "metadata": {},
     "output_type": "execute_result"
    }
   ],
   "source": [
    "baseline_eval"
   ]
  },
  {
   "cell_type": "code",
   "execution_count": 6,
   "metadata": {},
   "outputs": [
    {
     "name": "stdout",
     "output_type": "stream",
     "text": [
      "baseline\n",
      "{'eval_loss': 0.299724280834198, 'eval_precision': 0.6620111731843575, 'eval_recall': 0.5163398692810458, 'eval_f1': 0.5801713586291309, 'eval_span_f1': 0.606516290726817, 'eval_accuracy': 0.9149110247494375, 'eval_runtime': 19.8806, 'eval_samples_per_second': 14.336, 'eval_steps_per_second': 0.905}\n",
      "NoStaD\n",
      "{'eval_loss': 0.324131578207016, 'eval_precision': 0.5523602199816682, 'eval_recall': 0.46431667148223055, 'eval_f1': 0.5045261891057506, 'eval_span_f1': 0.5506407163154791, 'eval_accuracy': 0.9186659739932622, 'eval_runtime': 462.8411, 'eval_samples_per_second': 11.019, 'eval_steps_per_second': 0.689}\n",
      "DaNplus\n",
      "{'eval_loss': 0.2991975247859955, 'eval_precision': 0.3388338833883388, 'eval_recall': 0.31950207468879666, 'eval_f1': 0.32888414308595826, 'eval_span_f1': 0.3733333333333333, 'eval_accuracy': 0.9193520191131053, 'eval_runtime': 72.5812, 'eval_samples_per_second': 7.798, 'eval_steps_per_second': 0.496}\n"
     ]
    }
   ],
   "source": [
    "print(\"baseline\")\n",
    "print(baseline_eval)\n",
    "print(\"NoStaD\")\n",
    "print(NoStaD_eval)\n",
    "print(\"DaNplus\")\n",
    "print(DaNplus_eval)"
   ]
  },
  {
   "cell_type": "code",
   "execution_count": 7,
   "metadata": {},
   "outputs": [
    {
     "data": {
      "text/html": [
       "<div>\n",
       "<style scoped>\n",
       "    .dataframe tbody tr th:only-of-type {\n",
       "        vertical-align: middle;\n",
       "    }\n",
       "\n",
       "    .dataframe tbody tr th {\n",
       "        vertical-align: top;\n",
       "    }\n",
       "\n",
       "    .dataframe thead th {\n",
       "        text-align: right;\n",
       "    }\n",
       "</style>\n",
       "<table border=\"1\" class=\"dataframe\">\n",
       "  <thead>\n",
       "    <tr style=\"text-align: right;\">\n",
       "      <th></th>\n",
       "      <th>Dataset</th>\n",
       "      <th>Language</th>\n",
       "      <th>eval_loss</th>\n",
       "      <th>eval_precision</th>\n",
       "      <th>eval_recall</th>\n",
       "      <th>eval_f1</th>\n",
       "      <th>eval_span_f1</th>\n",
       "      <th>eval_accuracy</th>\n",
       "      <th>eval_runtime</th>\n",
       "      <th>eval_samples_per_second</th>\n",
       "      <th>eval_steps_per_second</th>\n",
       "    </tr>\n",
       "  </thead>\n",
       "  <tbody>\n",
       "    <tr>\n",
       "      <th>0</th>\n",
       "      <td>Baseline</td>\n",
       "      <td>English</td>\n",
       "      <td>0.299724</td>\n",
       "      <td>0.662011</td>\n",
       "      <td>0.516340</td>\n",
       "      <td>0.580171</td>\n",
       "      <td>0.606516</td>\n",
       "      <td>0.914911</td>\n",
       "      <td>19.8806</td>\n",
       "      <td>14.336</td>\n",
       "      <td>0.905</td>\n",
       "    </tr>\n",
       "    <tr>\n",
       "      <th>1</th>\n",
       "      <td>NoSta-D</td>\n",
       "      <td>German</td>\n",
       "      <td>0.324132</td>\n",
       "      <td>0.552360</td>\n",
       "      <td>0.464317</td>\n",
       "      <td>0.504526</td>\n",
       "      <td>0.550641</td>\n",
       "      <td>0.918666</td>\n",
       "      <td>462.8411</td>\n",
       "      <td>11.019</td>\n",
       "      <td>0.689</td>\n",
       "    </tr>\n",
       "    <tr>\n",
       "      <th>2</th>\n",
       "      <td>DaNplus</td>\n",
       "      <td>Danish</td>\n",
       "      <td>0.299198</td>\n",
       "      <td>0.338834</td>\n",
       "      <td>0.319502</td>\n",
       "      <td>0.328884</td>\n",
       "      <td>0.373333</td>\n",
       "      <td>0.919352</td>\n",
       "      <td>72.5812</td>\n",
       "      <td>7.798</td>\n",
       "      <td>0.496</td>\n",
       "    </tr>\n",
       "  </tbody>\n",
       "</table>\n",
       "</div>"
      ],
      "text/plain": [
       "    Dataset Language  eval_loss  eval_precision  eval_recall   eval_f1  \\\n",
       "0  Baseline  English   0.299724        0.662011     0.516340  0.580171   \n",
       "1   NoSta-D   German   0.324132        0.552360     0.464317  0.504526   \n",
       "2   DaNplus   Danish   0.299198        0.338834     0.319502  0.328884   \n",
       "\n",
       "   eval_span_f1  eval_accuracy  eval_runtime  eval_samples_per_second  \\\n",
       "0      0.606516       0.914911       19.8806                   14.336   \n",
       "1      0.550641       0.918666      462.8411                   11.019   \n",
       "2      0.373333       0.919352       72.5812                    7.798   \n",
       "\n",
       "   eval_steps_per_second  \n",
       "0                  0.905  \n",
       "1                  0.689  \n",
       "2                  0.496  "
      ]
     },
     "execution_count": 7,
     "metadata": {},
     "output_type": "execute_result"
    }
   ],
   "source": [
    "import pandas as pd\n",
    "\n",
    "cols = [\"Dataset\", \"Language\"] + [name for name, _ in baseline_eval.items()]\n",
    "\n",
    "df = pd.DataFrame(columns=cols)\n",
    "\n",
    "# Add the evals to df\n",
    "df.loc[0] = [\"Baseline\", \"English\"] + [value for _, value in baseline_eval.items()]\n",
    "df.loc[1] = [\"NoSta-D\", \"German\"] + [value for _, value in NoStaD_eval.items()]\n",
    "df.loc[2] = [\"DaNplus\", \"Danish\"] + [value for _, value in DaNplus_eval.items()]\n",
    "\n",
    "df"
   ]
  }
 ],
 "metadata": {
  "kernelspec": {
   "display_name": "venv",
   "language": "python",
   "name": "python3"
  },
  "language_info": {
   "codemirror_mode": {
    "name": "ipython",
    "version": 3
   },
   "file_extension": ".py",
   "mimetype": "text/x-python",
   "name": "python",
   "nbconvert_exporter": "python",
   "pygments_lexer": "ipython3",
   "version": "3.11.3"
  },
  "orig_nbformat": 4
 },
 "nbformat": 4,
 "nbformat_minor": 2
}
