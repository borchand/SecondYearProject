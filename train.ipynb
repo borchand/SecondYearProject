{
 "cells": [
  {
   "cell_type": "code",
   "execution_count": null,
   "metadata": {},
   "outputs": [],
   "source": [
    "# !pip install evaluate seqeval datasets sacremoses\n",
    "# !pip install torch==2.0.0\n",
    "# !pip install --upgrade accelerate"
   ]
  },
  {
   "cell_type": "code",
   "execution_count": 1,
   "metadata": {},
   "outputs": [
    {
     "name": "stderr",
     "output_type": "stream",
     "text": [
      "/Users/borch_and/Documents/GitHub/SecondYearProject/venv/lib/python3.11/site-packages/tqdm/auto.py:21: TqdmWarning: IProgress not found. Please update jupyter and ipywidgets. See https://ipywidgets.readthedocs.io/en/stable/user_install.html\n",
      "  from .autonotebook import tqdm as notebook_tqdm\n"
     ]
    }
   ],
   "source": [
    "from TokenClassificationTrainer import TokenClassificationTrainer"
   ]
  },
  {
   "cell_type": "code",
   "execution_count": 2,
   "metadata": {},
   "outputs": [
    {
     "name": "stderr",
     "output_type": "stream",
     "text": [
      "                                                                 \r"
     ]
    }
   ],
   "source": [
    "# Set the task and name of the pretrained model and the batch size for finetuning\n",
    "task = \"ner\"\n",
    "model_name = \"xlm-mlm-17-1280\"  # \"bert-base-multilingual-cased\" or \"xlm-mlm-17-1280\"\n",
    "batch_size = 32\n",
    "\n",
    "# Flag to indicate whether to label all tokens or just the first token of each word\n",
    "label_all_tokens = True\n",
    "\n",
    "# File paths to splits of the chosen dataset\n",
    "file_paths = {\n",
    "    \"train\": [\"data/datasets/baseline/en_ewt_nn_train_newsgroup_only.conll\", \"data/datasets/baseline/en_ewt_nn_train_answers_only.conll\"],\n",
    "    \"validation\": \"data/datasets/baseline/en_ewt_nn_newsgroup_dev.conll\",\n",
    "}\n",
    "\n",
    "# initialize trainer\n",
    "trainer = TokenClassificationTrainer(task, model_name, batch_size, label_all_tokens, file_paths)"
   ]
  },
  {
   "cell_type": "code",
   "execution_count": null,
   "metadata": {},
   "outputs": [],
   "source": [
    "# Training\n",
    "trainer.train_and_save()"
   ]
  },
  {
   "cell_type": "code",
   "execution_count": 3,
   "metadata": {},
   "outputs": [
    {
     "name": "stderr",
     "output_type": "stream",
     "text": [
      "/Users/borch_and/Documents/GitHub/SecondYearProject/venv/lib/python3.11/site-packages/transformers/optimization.py:391: FutureWarning: This implementation of AdamW is deprecated and will be removed in a future version. Use the PyTorch implementation torch.optim.AdamW instead, or set `no_deprecation_warning=True` to disable this warning\n",
      "  warnings.warn(\n",
      "100%|██████████| 9/9 [00:22<00:00,  2.47s/it]      \n"
     ]
    },
    {
     "name": "stdout",
     "output_type": "stream",
     "text": [
      "{'eval_loss': 0.3006558120250702, 'eval_precision': 0.6620111731843575, 'eval_recall': 0.5163398692810458, 'eval_f1': 0.5801713586291309, 'eval_span_f1': 0.606516290726817, 'eval_accuracy': 0.9149110247494375, 'eval_runtime': 25.231, 'eval_samples_per_second': 11.296, 'eval_steps_per_second': 0.357}\n"
     ]
    },
    {
     "name": "stderr",
     "output_type": "stream",
     "text": [
      "100%|██████████| 18/18 [01:13<00:00,  4.08s/it]                "
     ]
    },
    {
     "name": "stdout",
     "output_type": "stream",
     "text": [
      "{'eval_loss': 0.2978321611881256, 'eval_precision': 0.3388338833883388, 'eval_recall': 0.31950207468879666, 'eval_f1': 0.32888414308595826, 'eval_span_f1': 0.3733333333333333, 'eval_accuracy': 0.9193520191131053, 'eval_runtime': 76.6854, 'eval_samples_per_second': 7.381, 'eval_steps_per_second': 0.235}\n",
      "[{'eval_loss': 0.3006558120250702, 'eval_precision': 0.6620111731843575, 'eval_recall': 0.5163398692810458, 'eval_f1': 0.5801713586291309, 'eval_span_f1': 0.606516290726817, 'eval_accuracy': 0.9149110247494375, 'eval_runtime': 25.231, 'eval_samples_per_second': 11.296, 'eval_steps_per_second': 0.357}, {'eval_loss': 0.2978321611881256, 'eval_precision': 0.3388338833883388, 'eval_recall': 0.31950207468879666, 'eval_f1': 0.32888414308595826, 'eval_span_f1': 0.3733333333333333, 'eval_accuracy': 0.9193520191131053, 'eval_runtime': 76.6854, 'eval_samples_per_second': 7.381, 'eval_steps_per_second': 0.235}]\n"
     ]
    },
    {
     "name": "stderr",
     "output_type": "stream",
     "text": [
      "\n"
     ]
    }
   ],
   "source": [
    "# load trianed model to trainer\n",
    "trainer.set_trainer(use_old = True)\n",
    "print(trainer.evaluate_2([\"data/datasets/baseline/en_ewt_nn_newsgroup_test.conll\", \"data/datasets/DaNplus/da_news_test.tsv\"]))\n"
   ]
  }
 ],
 "metadata": {
  "kernelspec": {
   "display_name": "venv",
   "language": "python",
   "name": "python3"
  },
  "language_info": {
   "codemirror_mode": {
    "name": "ipython",
    "version": 3
   },
   "file_extension": ".py",
   "mimetype": "text/x-python",
   "name": "python",
   "nbconvert_exporter": "python",
   "pygments_lexer": "ipython3",
   "version": "3.11.3"
  },
  "orig_nbformat": 4
 },
 "nbformat": 4,
 "nbformat_minor": 2
}
