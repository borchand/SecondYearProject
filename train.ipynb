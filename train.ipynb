{
 "cells": [
  {
   "cell_type": "code",
   "execution_count": null,
   "metadata": {},
   "outputs": [],
   "source": [
    "# !pip install evaluate seqeval datasets sacremoses\n",
    "# !pip install torch==2.0.0\n",
    "# !pip install --upgrade accelerate"
   ]
  },
  {
   "cell_type": "code",
   "execution_count": null,
   "metadata": {},
   "outputs": [],
   "source": [
    "from TokenClassificationTrainer import TokenClassificationTrainer"
   ]
  },
  {
   "cell_type": "code",
   "execution_count": null,
   "metadata": {},
   "outputs": [],
   "source": [
    "# Set the task and name of the pretrained model and the batch size for finetuning\n",
    "task = \"ner\"\n",
    "model_name = \"xlm-mlm-17-1280\"  # \"bert-base-multilingual-cased\" or \"xlm-mlm-17-1280\"\n",
    "save_name = \"\"\n",
    "batch_size = 32\n",
    "\n",
    "# Flag to indicate whether to label all tokens or just the first token of each word\n",
    "label_all_tokens = True\n",
    "\n",
    "# File paths to splits of the chosen dataset\n",
    "file_paths = {\n",
    "    \"train\": \"data/datasets/baseline/en_ewt_nn_train.conll\",\n",
    "    \"validation\": \"data/datasets/baseline/en_ewt_nn_newsgroup_dev.conll\",\n",
    "}\n",
    "\n",
    "# initialize trainer\n",
    "trainer = TokenClassificationTrainer(task, model_name, batch_size, label_all_tokens, file_paths)"
   ]
  },
  {
   "cell_type": "code",
   "execution_count": null,
   "metadata": {},
   "outputs": [],
   "source": [
    "# Training\n",
    "trainer.train_and_save(discriminate_lr = False, scheduler = False)"
   ]
  },
  {
   "cell_type": "code",
   "execution_count": null,
   "metadata": {},
   "outputs": [],
   "source": [
    "# load trianed model to trainer\n",
    "trainer.set_trainer(use_old = True)\n",
    "print(trainer.evaluate_2([\"data/datasets/baseline/en_ewt_nn_newsgroup_test.conll\", \"data/datasets/DaNplus/da_news_test.tsv\"]))\n"
   ]
  }
 ],
 "metadata": {
  "kernelspec": {
   "display_name": "venv",
   "language": "python",
   "name": "python3"
  },
  "language_info": {
   "codemirror_mode": {
    "name": "ipython",
    "version": 3
   },
   "file_extension": ".py",
   "mimetype": "text/x-python",
   "name": "python",
   "nbconvert_exporter": "python",
   "pygments_lexer": "ipython3",
   "version": "3.11.3"
  },
  "orig_nbformat": 4
 },
 "nbformat": 4,
 "nbformat_minor": 2
}
